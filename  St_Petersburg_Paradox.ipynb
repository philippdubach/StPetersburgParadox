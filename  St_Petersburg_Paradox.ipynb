{
 "cells": [
  {
   "cell_type": "code",
   "execution_count": 2,
   "metadata": {},
   "outputs": [],
   "source": [
    "#https://stanford.library.sydney.edu.au/archives/sum2012/entries/paradox-stpetersburg/"
   ]
  },
  {
   "cell_type": "code",
   "execution_count": 1,
   "metadata": {},
   "outputs": [],
   "source": [
    "%matplotlib inline\n",
    "import numpy as np\n",
    "import matplotlib.pyplot as plt\n",
    "import pandas as pd\n",
    "\n",
    "#import cvxopt as opt\n",
    "#from cvxopt import blas, solvers\n",
    "#solvers.options['show_progress'] = False\n",
    "plt.style.use('seaborn-white')\n",
    "np.random.seed(77)"
   ]
  },
  {
   "cell_type": "code",
   "execution_count": 3,
   "metadata": {},
   "outputs": [
    {
     "name": "stdout",
     "output_type": "stream",
     "text": [
      "0    12380\n",
      "dtype: int64\n"
     ]
    },
    {
     "name": "stderr",
     "output_type": "stream",
     "text": [
      "/var/folders/v7/698tzr2n613_nwwy1ppy12m80000gn/T/ipykernel_18808/105997272.py:21: FutureWarning: The frame.append method is deprecated and will be removed from pandas in a future version. Use pandas.concat instead.\n",
      "  results = results.append(pd.Series(np.count_nonzero(coin_toss() == 1)), ignore_index=True)\n",
      "/var/folders/v7/698tzr2n613_nwwy1ppy12m80000gn/T/ipykernel_18808/105997272.py:21: FutureWarning: The frame.append method is deprecated and will be removed from pandas in a future version. Use pandas.concat instead.\n",
      "  results = results.append(pd.Series(np.count_nonzero(coin_toss() == 1)), ignore_index=True)\n"
     ]
    },
    {
     "data": {
      "image/png": "[encoded data removed]",
      "text/plain": [
       "<Figure size 432x288 with 1 Axes>"
      ]
     },
     "metadata": {},
     "output_type": "display_data"
    }
   ],
   "source": [
    "def coin_toss():\n",
    "    test = 1  \n",
    "    a = np.zeros(shape=(1,1))\n",
    "\n",
    "    while test == 1:\n",
    "        number = np.random.randint(1*10**9)\n",
    "        test=number%2\n",
    "        if test == 1:\n",
    "            #print(\"head\")\n",
    "            a = np.append(a, test) \n",
    "\n",
    "    #print(a[1:])\n",
    "    return a[1:]\n",
    "\n",
    "results = pd.DataFrame()\n",
    "payout = pd.DataFrame()\n",
    "games = 1000\n",
    "bet_value = 5\n",
    "\n",
    "for _ in range(games):\n",
    "    results = results.append(pd.Series(np.count_nonzero(coin_toss() == 1)), ignore_index=True)\n",
    "    \n",
    "results.plot.hist()\n",
    "\n",
    "results_nonzero = results[(results.T != 0).any()] #dropping zeroes\n",
    "payout = bet_value*2**results_nonzero\n",
    "net_payout = payout.sum() - games*bet_value\n",
    "print(net_payout)"
   ]
  }
 ],
 "metadata": {
  "kernelspec": {
   "display_name": "Python 3 (ipykernel)",
   "language": "python",
   "name": "python3"
  },
  "language_info": {
   "codemirror_mode": {
    "name": "ipython",
    "version": 3
   },
   "file_extension": ".py",
   "mimetype": "text/x-python",
   "name": "python",
   "nbconvert_exporter": "python",
   "pygments_lexer": "ipython3",
   "version": "3.9.13"
  }
 },
 "nbformat": 4,
 "nbformat_minor": 4
}
